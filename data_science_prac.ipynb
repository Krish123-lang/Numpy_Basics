{
  "nbformat": 4,
  "nbformat_minor": 0,
  "metadata": {
    "colab": {
      "private_outputs": true,
      "provenance": []
    },
    "kernelspec": {
      "name": "python3",
      "display_name": "Python 3"
    },
    "language_info": {
      "name": "python"
    }
  },
  "cells": [
    {
      "cell_type": "markdown",
      "source": [
        "# **NUMPY**"
      ],
      "metadata": {
        "id": "Jv8tbgipNBDb"
      }
    },
    {
      "cell_type": "code",
      "source": [
        "import numpy as np\n",
        "import pandas as pd\n",
        "import matplotlib.pyplot as plt"
      ],
      "metadata": {
        "id": "Aou88K5aNEPX"
      },
      "execution_count": null,
      "outputs": []
    },
    {
      "cell_type": "code",
      "source": [
        "n1 = np.array([1,2,3,4,5]) # 1-D array\n",
        "n1 = np.array([[1,2,3], [4,5,6], [7,8,9]]) # multi-dimensional array\n",
        "n1 = np.zeros((3, 2)) # Array with zero values\n",
        "n1 = np.full((2,2), 10) # 2x2 array with all 10 values \n",
        "n1 = np.arange(10, 60, 5) # Creates an array with values ranging from 10 to 60 with 5 steps\n",
        "n1 = np.random.randint(1, 50, 5) # creates an array with random values ranging from 1 to 50 with 5 steps\n",
        "n1.shape # To get the dimensions of array"
      ],
      "metadata": {
        "id": "YOUw9d78NWUP"
      },
      "execution_count": null,
      "outputs": []
    },
    {
      "cell_type": "markdown",
      "source": [
        "## Intersection & Difference"
      ],
      "metadata": {
        "id": "tkbNS7q6O5KF"
      }
    },
    {
      "cell_type": "code",
      "source": [
        "n1 = np.array([10, 20, 30, 40, 50, 60, 70])\n",
        "n2 = np.array([60, 70, 80, 90, 100, 110, 120])\n",
        "\n",
        "\n",
        "np.intersect1d(n1, n2) # Intersection i.e. returns common values in both arrays\n",
        "np.setdiff1d(n1, n2) # Difference i.e. returns element that is not in n1 arrays\n",
        "np.setdiff1d(n2, n1) # Difference i.e. returns element that is not in n2 arrays\n",
        "\n",
        "np.sort(n1) # Sorting Data\n",
        "n1.ndim # To Find the dimension of array\n",
        "n1.size # To find the number of elements in an array\n",
        "\n",
        "n3 = n2.copy() # Copying the elements of n2 into n3(new variable)\n",
        "n1.min() # Getting minimum values\n",
        "n1.max() # Getting max values\n",
        "n1.sum() # Getting sum of array\n",
        "\n",
        "np.unique(n1) # Getting unique values\n",
        "\n",
        "n1.transpose() # Matrix transpose\n",
        "# or\n",
        "n1.T\n",
        "\n",
        "np.flip(n1) # Reversing an array"
      ],
      "metadata": {
        "id": "hSlDqUwgO86k"
      },
      "execution_count": null,
      "outputs": []
    },
    {
      "cell_type": "markdown",
      "source": [
        "### Operations"
      ],
      "metadata": {
        "id": "5Be6MpKXPudM"
      }
    },
    {
      "cell_type": "code",
      "source": [
        "np.sum([n1, n2]) # Sum of n1 + Sum of n2\n",
        "np.sum([n1, n2], axis=0) # n1[0]+n2[0],  n1[1]+n2[1], n1[2]+n2[2], n1[3]+n2[3], n1[4]+n2[4], ...  n1[n]+n2[n],\n",
        "np.sum([n1, n2], axis=1) # Sum of n1, Sum of n2\n",
        "\n",
        "# MEAN\n",
        "np.mean(n1) # Mean of n1 i.e. sum of all elements/number of elements\n",
        "\n",
        "# MEDIAN\n",
        "np.median(n1) # median of n1 \n",
        "\n",
        "# Standard Deviation\n",
        "np.std(n1) # Standard Deviation of n1\n"
      ],
      "metadata": {
        "id": "S7tMnonmPxIO"
      },
      "execution_count": null,
      "outputs": []
    },
    {
      "cell_type": "markdown",
      "source": [
        "### Saving and Loading Numpy files"
      ],
      "metadata": {
        "id": "JqtK9n7BVQBF"
      }
    },
    {
      "cell_type": "code",
      "source": [
        "s = np.save(\"file\", n1) # Saving the array with file.npy file\n",
        "l = np.load(\"file.npy\") # Loading the 'file.npy' file\n",
        "l"
      ],
      "metadata": {
        "id": "3r0QXdONVTyA"
      },
      "execution_count": null,
      "outputs": []
    },
    {
      "cell_type": "markdown",
      "source": [
        "## Plotting"
      ],
      "metadata": {
        "id": "DzjfijgdV1uW"
      }
    },
    {
      "cell_type": "code",
      "source": [
        "%matplotlib inline\n",
        "\n",
        "# plt.plot(n1, n2, 'o-g', n3, 'o:r') # Simple Line plot\n",
        "# plt.scatter(n1, n2, n3, color='red') # Scatter plot\n",
        "plt.bar(n1, n2) # Simple Bar graph\n",
        "\n",
        "plt.title(\"Plotting\")\n",
        "plt.xlabel(\"X-axis\")\n",
        "plt.ylabel(\"Y-axis\")\n",
        "plt.grid()\n",
        "\n",
        "plt.show()"
      ],
      "metadata": {
        "id": "958NW4lNVfJq"
      },
      "execution_count": null,
      "outputs": []
    },
    {
      "cell_type": "markdown",
      "source": [
        "### 3-D Visualization"
      ],
      "metadata": {
        "id": "1N7CgQG5YxBl"
      }
    },
    {
      "cell_type": "code",
      "source": [
        "fig = plt.figure()\n",
        "ax = fig.add_subplot(projection='3d')\n",
        "X = np.arange(-5, 5, 0.15)\n",
        "Y = np.arange(-5, 5, 0.15)\n",
        "X, Y = np.meshgrid(X, Y)\n",
        "R = np.sqrt(X**2 + Y**2)\n",
        "Z = np.sin(R)\n",
        "\n",
        "ax.plot_surface(X, Y, Z, rstride=1, cstride=1, cmap='viridis')"
      ],
      "metadata": {
        "id": "JdjF4DHgWQ7t"
      },
      "execution_count": null,
      "outputs": []
    }
  ]
}